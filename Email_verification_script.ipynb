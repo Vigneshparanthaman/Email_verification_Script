{
  "nbformat": 4,
  "nbformat_minor": 0,
  "metadata": {
    "colab": {
      "provenance": []
    },
    "kernelspec": {
      "name": "python3",
      "display_name": "Python 3"
    },
    "language_info": {
      "name": "python"
    }
  },
  "cells": [
    {
      "cell_type": "code",
      "source": [
        "import re\n",
        "import os\n",
        "\n",
        "USERNAME_PATTERN = r\"^[^\\d\\W][\\w.-]+@[\\w.-]+\\.[a-zA-Z]{2,6}$\"\n",
        "PASSWORD_PATTERN = r\"^(?=.*[\\d])(?=.*[A-Z])(?=.*[a-z])(?=.*[@#$%^&+=]).{5,16}$\"\n",
        "\n",
        "def validate_username(username):\n",
        "     return bool(re.match(USERNAME_PATTERN, username))\n",
        "validate_username('Vignesh94@gmail.com')\n",
        "\n",
        "def validate_password(password):\n",
        "     return bool(re.match(PASSWORD_PATTERN, password))\n",
        "validate_password('Chennai@12345')\n",
        "\n",
        "\n",
        "def register():\n",
        "    username = input(\"Enter a username: \")\n",
        "    password = input(\"Enter a password: \")\n",
        "   \n",
        "    if not validate_username(username):\n",
        "        print(\"Invalid username.\")\n",
        "        return\n",
        "    if not validate_password(password):\n",
        "        print(\"Invalid password.\")\n",
        "        return\n",
        "    with open('user1.txt', \"x\"):\n",
        "        f=open('user1.txt','a')\n",
        "        f.write(f\"{username},{password}\\n\")\n",
        "    print(\"Registration successful.\")\n",
        "   \n",
        "register()\n",
        "\n",
        "def login():\n",
        "    username = input(\"Enter your username: \")\n",
        "    password = input(\"Enter your password: \")\n",
        "   \n",
        "    with open('user1.txt', \"r\") as f:\n",
        "        for line in f:\n",
        "            line = line.strip()\n",
        "            stored_username, stored_password = line.split(\",\")\n",
        "            if username == stored_username and password == stored_password:\n",
        "                print(\"Login successful.\")\n",
        "                return\n",
        "    print(\"Login failed. Invalid username or password.\")\n",
        "login()\n",
        "def retrieve_password(username,password):\n",
        "    with open('user1.txt', \"r\") as f:\n",
        "        for line in f:\n",
        "            line = line.strip()\n",
        "            stored_username, stored_password = line.split(\",\")\n",
        "            if username == stored_username and password!=stored_password:\n",
        "                return stored_password\n",
        "\n",
        "retrieve_password('Vignesh94@gmail.com','Chennai@134')"
      ],
      "metadata": {
        "colab": {
          "base_uri": "https://localhost:8080/",
          "height": 140
        },
        "id": "K22Rgj2rEAHQ",
        "outputId": "b6a65b11-6b04-432f-e5b0-2d78b9fe21e6"
      },
      "execution_count": 12,
      "outputs": [
        {
          "output_type": "stream",
          "name": "stdout",
          "text": [
            "Enter a username: Vignesh94@gmail.com\n",
            "Enter a password: Chennai@12345\n",
            "Registration successful.\n",
            "Enter your username: Vignesh94@gmail.com\n",
            "Enter your password: Chennai@12345\n",
            "Login successful.\n"
          ]
        },
        {
          "output_type": "execute_result",
          "data": {
            "text/plain": [
              "'Chennai@12345'"
            ],
            "application/vnd.google.colaboratory.intrinsic+json": {
              "type": "string"
            }
          },
          "metadata": {},
          "execution_count": 12
        }
      ]
    }
  ]
}